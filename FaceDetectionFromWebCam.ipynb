import cv2
import sys

faceCascade = cv2.CascadeClassifier("haarcascade_frontalface_default.xml")

video_capture = cv2.VideoCapture(0)
anterior = 0

while True:
    if not video_capture.isOpened():
        print('Camera chưa được mở.')
        sleep(5)
        pass

    # Đọc từng frame từ camera
    ret, frame = video_capture.read()

    # Chuyển frame sang hình gray
    gray = cv2.cvtColor(frame, cv2.COLOR_BGR2GRAY)

   #Sử dụng detectMultiScale để phát hiện khuôn mặt trong bức ảnh xám
    faces = faceCascade.detectMultiScale(
        gray,
        scaleFactor=1.1,
        minNeighbors=5,
        minSize=(30, 30)
    )

    # Vẽ hình vuông xung quanh hình đã phát hiện
    for (x, y, w, h) in faces:
        cv2.rectangle(frame, (x, y), (x+w, y+h), (0, 255, 0), 2)

    if anterior != len(faces):
        anterior = len(faces)

    # Hiển thị hình ảnh lên cửa số
    cv2.imshow('Video', frame)

    # kiểm tra thoát nếu phím q có được ấn
    if cv2.waitKey(1) & 0xFF == ord('q'):
        break

# Khi hoàn thành xong thì giải phóng, và đóng hết cửa sổ
video_capture.release()
cv2.destroyAllWindows()
