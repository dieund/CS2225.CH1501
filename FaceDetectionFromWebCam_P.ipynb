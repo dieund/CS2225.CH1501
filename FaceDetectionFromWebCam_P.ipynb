{
  "nbformat": 4,
  "nbformat_minor": 0,
  "metadata": {
    "colab": {
      "name": "FaceDetectionFromWebCam_P.ipynb",
      "provenance": [],
      "collapsed_sections": [],
      "authorship_tag": "ABX9TyOll+rLOFsSjYszTxbqacv1",
      "include_colab_link": true
    },
    "kernelspec": {
      "name": "python3",
      "display_name": "Python 3"
    }
  },
  "cells": [
    {
      "cell_type": "markdown",
      "metadata": {
        "id": "view-in-github",
        "colab_type": "text"
      },
      "source": [
        "<a href=\"https://colab.research.google.com/github/dieund/CS2225.CH1501/blob/master/FaceDetectionFromWebCam_P.ipynb\" target=\"_parent\"><img src=\"https://colab.research.google.com/assets/colab-badge.svg\" alt=\"Open In Colab\"/></a>"
      ]
    },
    {
      "cell_type": "code",
      "metadata": {
        "id": "90nn0_PRql97"
      },
      "source": [
        "import cv2\n",
        "import sys\n",
        "import numpy as np\n",
        "import os\n",
        "\n",
        "# Get user supplied values BEGIN\n",
        "imagePath = sys.argv[1]\n",
        "\n",
        "\n",
        "# Create the haar cascade\n",
        "faceCascade = cv2.CascadeClassifier('C:\\Users\\Karthik\\Downloads\\Programs\\opencv\\sources\\data\\haarcascades\\haarcascad_frontalface_default.xml')\n",
        "eyeCascade= cv2.CascadeClassifier('C:\\Users\\Karthik\\Downloads\\Programs\\opencv\\sources\\data\\haarcascades\\haarcascade_eye.xml')\n",
        "\n",
        "# Read the image\n",
        "image = cv2.imread(imagePath)\n",
        "gray = cv2.cvtColor(image, cv2.COLOR_BGR2GRAY)\n",
        "\n",
        "# Detect faces in the image\n",
        "faces = faceCascade.detectMultiScale(\n",
        "    gray,\n",
        "    scaleFactor=1.2,\n",
        "    minNeighbors=5,\n",
        "    minSize=(30, 30),\n",
        "    flags = cv2.cv.CV_HAAR_SCALE_IMAGE\n",
        ")\n",
        "\n",
        "print \"Found {0} faces!\".format(len(faces))\n",
        "\n",
        "# Draw a rectangle around the faces\n",
        "for (x, y, w, h) in faces:\n",
        "    cv2.rectangle(image, (x, y), (x+w, y+h), (255, 0, 0), 2)\n",
        "    roi_gray = gray[y:y+h, x:x+w]\n",
        "    roi_color = image[y:y+h, x:x+w]\n",
        "\n",
        "    eyes = eyeCascade.detectMultiscale(roi_gray)\n",
        "    for (ex,ey,ew,eh) in eyes:\n",
        "            cv2.rectangle(roi_color,(ex,ey),(ex+ew,ey+eh),(0, 255, 0), 2)\n",
        "\n",
        "\n",
        "cv2.imshow(\"Faces found\", image)\n",
        "print image.shape\n",
        "cv2.waitKey(0)"
      ],
      "execution_count": null,
      "outputs": []
    }
  ]
}